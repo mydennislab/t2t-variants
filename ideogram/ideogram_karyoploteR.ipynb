{
 "cells": [
  {
   "cell_type": "code",
   "execution_count": 2,
   "id": "auburn-marking",
   "metadata": {},
   "outputs": [],
   "source": [
    "library(tidyverse)\n",
    "library(scales)\n",
    "library(data.table)\n",
    "library(glue)\n",
    "library(karyoploteR)"
   ]
  },
  {
   "cell_type": "markdown",
   "id": "manufactured-terror",
   "metadata": {},
   "source": [
    "## Ideogram GRCh38"
   ]
  },
  {
   "cell_type": "markdown",
   "id": "swedish-result",
   "metadata": {},
   "source": [
    "Reading files to plot:"
   ]
  },
  {
   "cell_type": "code",
   "execution_count": 3,
   "id": "beginning-destruction",
   "metadata": {},
   "outputs": [],
   "source": [
    "hg38_issues <- fread(glue(\"known_issues/hg38.parsedissues.ideogram.bed\"), col.names=c(\"chr\",\"start\", \"end\"))\n",
    "hg38_non_syn <- fread(glue(\"synteny/GRCh38.no_snyteny_1Mbp.bed\"), col.names=c(\"chr\",\"start\", \"end\"))\n",
    "\n",
    "hg38_false_dups <- fread(glue(\"zook_false_dups/hg38_false_dups.bed\"), col.names=c(\"chr\",\"start\", \"end\"))\n",
    "hg38_cluster_hets <- fread(glue(\"dennis_missing_dups/hg38_cluster_hets.bed\"), col.names=c(\"chr\",\"start\", \"end\"))\n",
    "hg38_missing_dups <- fread(glue(\"dennis_missing_dups/hg38_missing_dups.bed\"), col.names=c(\"chr\",\"start\", \"end\"))\n",
    "\n",
    "hg38_rare_haps <- fread(glue(\"mccoy_rare_haps/ld_discordant_haplotypes_GRCh38.bed\"), col.names=c(\"chr\",\"start\", \"end\"))\n",
    "\n",
    "hg38_issues_dbsnp <- fread(glue(\"mccoy_lifover_issues/liftover_failure_dbsnp.nomismatchref.mrg.bed\"), col.names=c(\"chr\",\"start\", \"end\"))\n",
    "hg38_issues_clinvar <- fread(glue(\"mccoy_lifover_issues/liftover_failure_clinvar.nomismatchref.mrg.bed\"), col.names=c(\"chr\",\"start\", \"end\"))\n",
    "hg38_issues_gwas <- fread(glue(\"mccoy_lifover_issues/liftover_failure_gwas.nomismatchref.mrg.bed\"), col.names=c(\"chr\",\"start\", \"end\"))\n",
    "\n",
    "hg38_segdups <- fread(glue(\"segdups/genomicSuperDups.bed\"), col.names=c(\"chr\",\"start\", \"end\"))\n",
    "hg38_encode <- fread(glue(\"schatz_encode/ENCFF356LFX.bed\"), col.names=c(\"chr\",\"start\", \"end\"))\n",
    "\n",
    "#hg38_abnormal_cov <- fread(glue(\"sergey_coverage/GRCh38.agg_abnormal.bed\"), col.names=c(\"chr\",\"start\", \"end\"))\n",
    "#hg38_unique_kmers <- fread(glue(\"schatz_unique_kmers/hg38.noalt.windows_1000.unique_75mers.bed\"), col.names=c(\"chr\",\"start\", \"end\",\"A\",\"B\",\"C\",\"D\"))\n",
    "#hg38_min_kmer <- fread(glue(\"sauria_min_kmer/GRCh38p13_binned_mu.bg\"), col.names=c(\"chr\",\"start\", \"end\", \"A\", \"B\"))\n",
    "\n",
    "# GRCh38 ancestry\n",
    "hg38_neand <- fread(glue(\"mccoy_ancestry/grch38_ancestry_neand_masked.neand.bed\"), col.names=c(\"chr\",\"start\", \"end\"))\n",
    "hg38_AFR <- fread(glue(\"mccoy_ancestry/grch38_ancestry_neand_masked.AFR.bed\"), col.names=c(\"chr\",\"start\", \"end\"))\n",
    "hg38_AMR <- fread(glue(\"mccoy_ancestry/grch38_ancestry_neand_masked.AMR.bed\"), col.names=c(\"chr\",\"start\", \"end\"))\n",
    "hg38_EAS <- fread(glue(\"mccoy_ancestry/grch38_ancestry_neand_masked.EAS.bed\"), col.names=c(\"chr\",\"start\", \"end\"))\n",
    "hg38_EUR <- fread(glue(\"mccoy_ancestry/grch38_ancestry_neand_masked.EUR.bed\"), col.names=c(\"chr\",\"start\", \"end\"))\n",
    "hg38_SAS <- fread(glue(\"mccoy_ancestry/grch38_ancestry_neand_masked.SAS.bed\"), col.names=c(\"chr\",\"start\", \"end\"))"
   ]
  },
  {
   "cell_type": "markdown",
   "id": "loose-culture",
   "metadata": {},
   "source": [
    "Making plot:"
   ]
  },
  {
   "cell_type": "code",
   "execution_count": 42,
   "id": "minimal-moscow",
   "metadata": {},
   "outputs": [
    {
     "data": {
      "text/html": [
       "<strong>pdf:</strong> 2"
      ],
      "text/latex": [
       "\\textbf{pdf:} 2"
      ],
      "text/markdown": [
       "**pdf:** 2"
      ],
      "text/plain": [
       "pdf \n",
       "  2 "
      ]
     },
     "metadata": {},
     "output_type": "display_data"
    }
   ],
   "source": [
    "pdf(\"hg38_ideogram.pdf\", height = 10, width = 5)\n",
    "\n",
    "pp <- getDefaultPlotParams(plot.type=2)\n",
    "pp$ideogramheight=100\n",
    "\n",
    "kp <- plotKaryotype(genome = \"hg38\", plot.type=2,  cex=1, plot.params = pp, lwd=0.00001)\n",
    "kpAddCytobands(kp, lwd=0.3) # no border so they don't overwhelm small issue colors\n",
    "#kpAddBaseNumbers(kp, tick.dist = 10000000, tick.len = 3, tick.col=\"black\", cex=0.5, minor.tick.dist = 1000000, minor.tick.len = 2, minor.tick.col = \"gray\")\n",
    "\n",
    "# No synteny\n",
    "kpPlotRegions(kp, data=hg38_non_syn, r0=0, r1=1, lwd=0, col=\"#8C510ADD\", data.panel=\"ideogram\")\n",
    "\n",
    "# Adding ancestry\n",
    "kpPlotRegions(kp, data=hg38_AFR, r0=0, r1=0.15, lwd=0.05, col=\"#66c2a5\", data.panel=1)\n",
    "kpPlotRegions(kp, data=hg38_AMR, r0=0, r1=0.15, lwd=0.05, col=\"#fc8d62\", data.panel=1)\n",
    "kpPlotRegions(kp, data=hg38_EAS, r0=0, r1=0.15, lwd=0.05, col=\"#e78ac3\", data.panel=1)\n",
    "kpPlotRegions(kp, data=hg38_EUR, r0=0, r1=0.15, lwd=0.05, col=\"#8da0cb\", data.panel=1)\n",
    "kpPlotRegions(kp, data=hg38_SAS, r0=0, r1=0.15, lwd=0.05, col=\"#a6d854\", data.panel=1)\n",
    "kpPlotRegions(kp, data=hg38_neand, r0=0, r1=0.15, lwd=0.05, col=\"#ffd92f\", data.panel=1)\n",
    "# Min k-mer\n",
    "# kpHeatmap(kp, data=toGRanges(hg38_min_kmer), y=hg38_min_kmer$B, r0=0.3, r1=0.5, colors = c(\"#440154FF\",\"#21908CFF\",\"#FDE725FF\"))\n",
    "# SegDups\n",
    "kpPlotRegions(kp, data=hg38_segdups, r0=0.25, r1=0.4, lwd=0.1, col=\"#FF9900\") # orange\n",
    "# Rare haps\n",
    "kpPlotRegions(kp, data=hg38_rare_haps, r0=0.5, r1=0.6, lwd=0.5, col=\"#8D35DE\") # purple \n",
    "# GRC issues\n",
    "kpPlotRegions(kp, data=hg38_issues, r0=0.7, r1=0.8, lwd=0.5, col=\"#e31a1c\") # red\n",
    "# Missing dups\n",
    "kpPlotRegions(kp, data=hg38_cluster_hets, r0=0.9, r1=1, lwd=0.5, col=\"#a6cee3\") # lightblue\n",
    "kpPlotRegions(kp, data=hg38_missing_dups, r0=0.9, r1=1, lwd=0.5, col=\"#2F7DDE\") # blue\n",
    "# False dups\n",
    "kpPlotRegions(kp, data=hg38_false_dups, r0=0.9, r1=1, lwd=0.5, col=\"#48D1CC\") # cyan\n",
    "# Encode blacklist\n",
    "kpPlotRegions(kp, data=hg38_encode, r0=1.1, r1=1.2, lwd=0.5, col=\"#999999\") # grey\n",
    "# Lifover failures\n",
    "#kpPlotRegions(kp, data=hg38_issues_dbsnp, r0=1.3, r1=1.4, lwd=0.5, col=\"#fb9a99\") # pink\n",
    "kpPlotRegions(kp, data=hg38_issues_clinvar, r0=1.3, r1=1.4, lwd=0.5, col=\"#1c9099\") # cyan \n",
    "kpPlotRegions(kp, data=hg38_issues_gwas, r0=1.3, r1=1.4, lwd=0.5, col=\"#fec44f\") # orange\n",
    "\n",
    "dev.off()"
   ]
  },
  {
   "cell_type": "markdown",
   "id": "expected-prayer",
   "metadata": {},
   "source": [
    "## Ideogram T2T CHM13"
   ]
  },
  {
   "cell_type": "markdown",
   "id": "thorough-project",
   "metadata": {},
   "source": [
    "Generating genome file:"
   ]
  },
  {
   "cell_type": "code",
   "execution_count": 4,
   "id": "proof-vault",
   "metadata": {},
   "outputs": [],
   "source": [
    "FAI <- fread(glue(\"chm13_cytobands/chm13.draft_v1.0.fasta.fai\"), col.names = c(\"chr\",\"chrlen\",\"x\",\"y\",\"z\"))\n",
    "GEN.df <- data.table(FAI$chr, 0, FAI$chrlen, gieStain=\"geng\")\n",
    "GENOME <- toGRanges(GEN.df)\n",
    "\n",
    "# first CYTO option is lifted over from GRCh38, second (uncommented) uses centromere and gaps only\n",
    "CYTO  = toGRanges(fread(glue(\"chm13_cytobands/chm13_v1.cytoBandIdeo_v1.0_plus_hg38Y.txt\"), col.names=c(\"chr\",\"start\",\"end\", \"name\", \"gieStain\")))"
   ]
  },
  {
   "cell_type": "markdown",
   "id": "spectacular-hungarian",
   "metadata": {},
   "source": [
    "Reading files to plot:"
   ]
  },
  {
   "cell_type": "code",
   "execution_count": 5,
   "id": "historical-instruction",
   "metadata": {},
   "outputs": [],
   "source": [
    "chm13_non_syn <- fread(glue(\"synteny/chm13.draft_v1.0_plus38Y.no_snyteny_1Mbp.bed\"), col.names=c(\"chr\",\"start\", \"end\"))\n",
    "chm13_novel <- fread(glue(\"synteny/chm13_v1.0_uncoveredByGRCh38WinnowmapAlignments.bed\"), col.names=c(\"chr\",\"start\", \"end\"))\n",
    "chm13_issues <- fread(glue(\"known_issues/v1.0_issues.mrg.bed\"), col.names=c(\"chr\",\"start\", \"end\"))\n",
    "\n",
    "chm13_rare_haps <- fread(glue(\"mccoy_rare_haps/ld_discordant_haplotypes_CHM13.to-CHM13.txt\"), col.names=c(\"chr\",\"start\", \"end\"))\n",
    "\n",
    "chm13_hets_calls <- fread(glue(\"dennis_missing_dups/chm13_cluster_hets.bed\"), col.names=c(\"chr\",\"start\", \"end\"))\n",
    "chm13_missing_dups <- fread(glue(\"dennis_missing_dups/chm13_missing_dups.bed\"), col.names=c(\"chr\",\"start\", \"end\"))\n",
    "chm13_segdups <- fread(glue(\"segdups/chm13.draft_v1.0_plus38Y.SDs.merged.bed\"), col.names=c(\"chr\",\"start\", \"end\"))\n",
    "\n",
    "# CHM13 ancestry\n",
    "chm13_neand <- fread(glue(\"mccoy_ancestry/chm13_v1.0_lifted_ancestry_neand_masked.neand.bed\"), col.names=c(\"chr\",\"start\", \"end\"))\n",
    "chm13_AFR <- fread(glue(\"mccoy_ancestry/chm13_v1.0_lifted_ancestry_neand_masked.AFR.bed\"), col.names=c(\"chr\",\"start\", \"end\"))\n",
    "chm13_AMR <- fread(glue(\"mccoy_ancestry/chm13_v1.0_lifted_ancestry_neand_masked.AMR.bed\"), col.names=c(\"chr\",\"start\", \"end\"))\n",
    "chm13_EAS <- fread(glue(\"mccoy_ancestry/chm13_v1.0_lifted_ancestry_neand_masked.EAS.bed\"), col.names=c(\"chr\",\"start\", \"end\"))\n",
    "chm13_EUR <- fread(glue(\"mccoy_ancestry/chm13_v1.0_lifted_ancestry_neand_masked.EUR.bed\"), col.names=c(\"chr\",\"start\", \"end\"))\n",
    "chm13_SAS <- fread(glue(\"mccoy_ancestry/chm13_v1.0_lifted_ancestry_neand_masked.SAS.bed\"), col.names=c(\"chr\",\"start\", \"end\"))"
   ]
  },
  {
   "cell_type": "markdown",
   "id": "painful-paragraph",
   "metadata": {},
   "source": [
    "Making plot:"
   ]
  },
  {
   "cell_type": "code",
   "execution_count": 45,
   "id": "excellent-skirt",
   "metadata": {},
   "outputs": [
    {
     "data": {
      "text/html": [
       "<strong>pdf:</strong> 2"
      ],
      "text/latex": [
       "\\textbf{pdf:} 2"
      ],
      "text/markdown": [
       "**pdf:** 2"
      ],
      "text/plain": [
       "pdf \n",
       "  2 "
      ]
     },
     "metadata": {},
     "output_type": "display_data"
    }
   ],
   "source": [
    "pdf(\"chm13_ideogram.pdf\", height = 10, width = 5)\n",
    "\n",
    "pp <- getDefaultPlotParams(plot.type=2)\n",
    "pp$ideogramheight=100\n",
    "\n",
    "kp <- plotKaryotype(genome = GENOME, ideogram.plotter=NULL, cytobands = CYTO, \n",
    "                    chromosomes=c(\"chr1\", \"chr2\", \"chr3\", \"chr4\", \"chr5\", \"chr6\", \"chr7\", \"chr8\", \"chr9\", \"chr10\", \"chr11\", \"chr12\", \"chr13\", \"chr14\", \"chr15\", \"chr16\", \"chr17\", \"chr18\", \"chr19\", \"chr20\", \"chr21\", \"chr22\", \"chrX\"), \n",
    "                    plot.type=2,  cex=1, plot.params = pp)\n",
    "kpAddCytobands(kp, lwd=0.3) # no border so they don't overwhelm small issue colors\n",
    "#kpAddBaseNumbers(kp, tick.dist = 10000000, tick.len = 3, tick.col=\"black\", cex=0.5, minor.tick.dist = 1000000, minor.tick.len = 2, minor.tick.col = \"gray\")\n",
    "\n",
    "# No synteny\n",
    "kpPlotRegions(kp, data=chm13_novel, r0=0, r1=1, lwd=0, col=\"#eedc5bDD\", data.panel=\"ideogram\")\n",
    "kpPlotRegions(kp, data=chm13_non_syn, r0=0, r1=1, lwd=0, col=\"#8C510ADD\", data.panel=\"ideogram\")\n",
    "# Ancestry\n",
    "kpPlotRegions(kp, data=chm13_AFR, r0=0, r1=0.15, lwd=0.05, col=\"#66c2a5\", data.panel=2)\n",
    "kpPlotRegions(kp, data=chm13_AMR, r0=0, r1=0.15, lwd=0.05, col=\"#fc8d62\", data.panel=2)\n",
    "kpPlotRegions(kp, data=chm13_EAS, r0=0, r1=0.15, lwd=0.05, col=\"#e78ac3\", data.panel=2)\n",
    "kpPlotRegions(kp, data=chm13_EUR, r0=0, r1=0.15, lwd=0.05, col=\"#8da0cb\", data.panel=2)\n",
    "kpPlotRegions(kp, data=chm13_SAS, r0=0, r1=0.15, lwd=0.05, col=\"#a6d854\", data.panel=2)\n",
    "kpPlotRegions(kp, data=chm13_neand, r0=0, r1=0.15, lwd=0.05, col=\"#ffd92f\", data.panel=2)\n",
    "# SegDups\n",
    "kpPlotRegions(kp, data=chm13_segdups, r0=0.25, r1=0.4, lwd=0.1, col=\"#FF9900\", data.panel=2) # orange\n",
    "# Rare haps\n",
    "kpPlotRegions(kp, data=chm13_rare_haps, r0=0.5, r1=0.6, lwd=0.5, col=\"#8D35DE\", data.panel=2) # purple\n",
    "# Polishing team issues\n",
    "kpPlotRegions(kp, data=chm13_issues, r0=0.7, r1=0.8, lwd=0.5, col=\"#e31a1c\", data.panel=2) # red\n",
    "# FP hets\n",
    "kpPlotRegions(kp, data=chm13_hets_calls, r0=0.9, r1=1.0, lwd=0.5, col=\"#a6cee3\", data.panel=2) # lightblue\n",
    "kpPlotRegions(kp, data=chm13_missing_dups, r0=0.9, r1=1.0, lwd=0.5, col=\"#2F7DDE\", data.panel=2) # blue\n",
    "\n",
    "dev.off()"
   ]
  },
  {
   "cell_type": "markdown",
   "id": "silent-purse",
   "metadata": {},
   "source": [
    "## Ancestry only"
   ]
  },
  {
   "cell_type": "code",
   "execution_count": 15,
   "id": "powerful-chamber",
   "metadata": {},
   "outputs": [
    {
     "data": {
      "text/html": [
       "<strong>pdf:</strong> 2"
      ],
      "text/latex": [
       "\\textbf{pdf:} 2"
      ],
      "text/markdown": [
       "**pdf:** 2"
      ],
      "text/plain": [
       "pdf \n",
       "  2 "
      ]
     },
     "metadata": {},
     "output_type": "display_data"
    },
    {
     "data": {
      "text/html": [
       "<strong>pdf:</strong> 2"
      ],
      "text/latex": [
       "\\textbf{pdf:} 2"
      ],
      "text/markdown": [
       "**pdf:** 2"
      ],
      "text/plain": [
       "pdf \n",
       "  2 "
      ]
     },
     "metadata": {},
     "output_type": "display_data"
    }
   ],
   "source": [
    "# GRCh38\n",
    "\n",
    "pdf(\"hg38_ideogram.ancestry.pdf\", height = 10, width = 5)\n",
    "\n",
    "pp <- getDefaultPlotParams(plot.type=2)\n",
    "pp$ideogramheight=100\n",
    "\n",
    "kp <- plotKaryotype(genome = \"hg38\", plot.type=2,  cex=1, plot.params = pp, lwd=0.00001)\n",
    "kpAddCytobands(kp, lwd=0.3) # no border so they don't overwhelm small issue colors\n",
    "\n",
    "kpPlotRegions(kp, data=hg38_non_syn, r0=0, r1=1, lwd=0, col=\"#8C510ADD\", data.panel=\"ideogram\")\n",
    "\n",
    "kpPlotRegions(kp, data=hg38_AFR, r0=0, r1=0.2, lwd=0.02, col=\"#66c2a5\", data.panel=1)\n",
    "kpPlotRegions(kp, data=hg38_AMR, r0=0.25, r1=0.45, lwd=0.02, col=\"#fc8d62\", data.panel=1)\n",
    "kpPlotRegions(kp, data=hg38_EAS, r0=0.5, r1=0.7, lwd=0.02, col=\"#e78ac3\", data.panel=1)\n",
    "kpPlotRegions(kp, data=hg38_EUR, r0=0.75, r1=0.95, lwd=0.02, col=\"#8da0cb\", data.panel=1)\n",
    "kpPlotRegions(kp, data=hg38_SAS, r0=1.0, r1=1.2, lwd=0.02, col=\"#a6d854\", data.panel=1)\n",
    "kpPlotRegions(kp, data=hg38_neand, r0=1.25, r1=1.45, lwd=0.02, col=\"#ffd92f\", data.panel=1)\n",
    "\n",
    "dev.off()\n",
    "\n",
    "# CHM13\n",
    "\n",
    "pdf(\"chm13_ideogram.ancestry.pdf\", height = 10, width = 5)\n",
    "\n",
    "pp <- getDefaultPlotParams(plot.type=2)\n",
    "pp$ideogramheight=100\n",
    "\n",
    "kp <- plotKaryotype(genome = GENOME, ideogram.plotter=NULL, cytobands = CYTO, \n",
    "                    chromosomes=c(\"chr1\", \"chr2\", \"chr3\", \"chr4\", \"chr5\", \"chr6\", \"chr7\", \"chr8\", \"chr9\", \"chr10\", \"chr11\", \"chr12\", \"chr13\", \"chr14\", \"chr15\", \"chr16\", \"chr17\", \"chr18\", \"chr19\", \"chr20\", \"chr21\", \"chr22\", \"chrX\"), \n",
    "                    plot.type=2,  cex=1, plot.params = pp)\n",
    "kpAddCytobands(kp, lwd=0.3) # no border so they don't overwhelm small issue colors\n",
    "\n",
    "kpPlotRegions(kp, data=chm13_novel, r0=0, r1=1, lwd=0, col=\"#eedc5bDD\", data.panel=\"ideogram\")\n",
    "kpPlotRegions(kp, data=chm13_non_syn, r0=0, r1=1, lwd=0, col=\"#8C510ADD\", data.panel=\"ideogram\")\n",
    "\n",
    "kpPlotRegions(kp, data=chm13_AFR, r0=0, r1=0.2, lwd=0.05, col=\"#66c2a5\", data.panel=2)\n",
    "kpPlotRegions(kp, data=chm13_AMR, r0=0.25, r1=0.45, lwd=0.05, col=\"#fc8d62\", data.panel=2)\n",
    "kpPlotRegions(kp, data=chm13_EAS, r0=0.5, r1=0.7, lwd=0.05, col=\"#e78ac3\", data.panel=2)\n",
    "kpPlotRegions(kp, data=chm13_EUR, r0=0.75, r1=0.95, lwd=0.05, col=\"#8da0cb\", data.panel=2)\n",
    "kpPlotRegions(kp, data=chm13_SAS, r0=1.0, r1=1.2, lwd=0.05, col=\"#a6d854\", data.panel=2)\n",
    "kpPlotRegions(kp, data=chm13_neand, r0=1.25, r1=1.45, lwd=0.05, col=\"#ffd92f\", data.panel=2)\n",
    "\n",
    "dev.off()"
   ]
  },
  {
   "cell_type": "markdown",
   "id": "tropical-facial",
   "metadata": {},
   "source": [
    "## Duplication errors only"
   ]
  },
  {
   "cell_type": "code",
   "execution_count": 58,
   "id": "international-webster",
   "metadata": {},
   "outputs": [
    {
     "data": {
      "text/html": [
       "<strong>pdf:</strong> 2"
      ],
      "text/latex": [
       "\\textbf{pdf:} 2"
      ],
      "text/markdown": [
       "**pdf:** 2"
      ],
      "text/plain": [
       "pdf \n",
       "  2 "
      ]
     },
     "metadata": {},
     "output_type": "display_data"
    },
    {
     "data": {
      "text/html": [
       "<strong>pdf:</strong> 2"
      ],
      "text/latex": [
       "\\textbf{pdf:} 2"
      ],
      "text/markdown": [
       "**pdf:** 2"
      ],
      "text/plain": [
       "pdf \n",
       "  2 "
      ]
     },
     "metadata": {},
     "output_type": "display_data"
    }
   ],
   "source": [
    "# GRCh38\n",
    "\n",
    "pdf(\"hg38_ideogram.duplication_errors.pdf\", height = 10, width = 5)\n",
    "\n",
    "pp <- getDefaultPlotParams(plot.type=2)\n",
    "pp$ideogramheight=100\n",
    "\n",
    "kp <- plotKaryotype(genome = \"hg38\", plot.type=2,  cex=1, plot.params = pp, lwd=0.00001)\n",
    "kpAddCytobands(kp, lwd=0.3) # no border so they don't overwhelm small issue colors\n",
    "#kpAddBaseNumbers(kp, tick.dist = 10000000, tick.len = 3, tick.col=\"black\", cex=0.5, minor.tick.dist = 1000000, minor.tick.len = 2, minor.tick.col = \"gray\")\n",
    "\n",
    "kpPlotRegions(kp, data=hg38_non_syn, r0=0, r1=1, lwd=0, col=\"#8C510ADD\", data.panel=\"ideogram\")\n",
    "\n",
    "kpPlotRegions(kp, data=hg38_segdups, r0=0, r1=0.25, lwd=0.1, col=\"#FF9900\") # orange\n",
    "\n",
    "kpPlotRegions(kp, data=hg38_cluster_hets, r0=0.3, r1=0.55, lwd=0.5, col=\"#84b5cf\") # lightblue\n",
    "kpPlotRegions(kp, data=hg38_missing_dups, r0=0.6, r1=0.85, lwd=0.5, col=\"#2F7DDE\") # blue\n",
    "kpPlotRegions(kp, data=hg38_false_dups, r0=0.9, r1=1.15, lwd=0.5, col=\"#48D1CC\") # cyan\n",
    "\n",
    "dev.off()\n",
    "\n",
    "# CHM13\n",
    "\n",
    "pdf(\"chm13_ideogram.duplication_errors.pdf\", height = 10, width = 5)\n",
    "\n",
    "pp <- getDefaultPlotParams(plot.type=2)\n",
    "pp$ideogramheight=100\n",
    "\n",
    "kp <- plotKaryotype(genome = GENOME, ideogram.plotter=NULL, cytobands = CYTO, \n",
    "                    chromosomes=c(\"chr1\", \"chr2\", \"chr3\", \"chr4\", \"chr5\", \"chr6\", \"chr7\", \"chr8\", \"chr9\", \"chr10\", \"chr11\", \"chr12\", \"chr13\", \"chr14\", \"chr15\", \"chr16\", \"chr17\", \"chr18\", \"chr19\", \"chr20\", \"chr21\", \"chr22\", \"chrX\"), \n",
    "                    plot.type=2,  cex=1, plot.params = pp)\n",
    "kpAddCytobands(kp, lwd=0.3) # no border so they don't overwhelm small issue colors\n",
    "\n",
    "kpPlotRegions(kp, data=chm13_novel, r0=0, r1=1, lwd=0, col=\"#eedc5bDD\", data.panel=\"ideogram\")\n",
    "kpPlotRegions(kp, data=chm13_non_syn, r0=0, r1=1, lwd=0, col=\"#8C510ADD\", data.panel=\"ideogram\")\n",
    "\n",
    "kpPlotRegions(kp, data=chm13_segdups, r0=0, r1=0.25, lwd=0.1, col=\"#FF9900\", data.panel=2) # orange\n",
    "\n",
    "kpPlotRegions(kp, data=chm13_hets_calls, r0=0.3, r1=0.55, lwd=0.5, col=\"#84b5cf\", data.panel=2) # lightblue\n",
    "kpPlotRegions(kp, data=chm13_missing_dups, r0=0.6, r1=0.85, lwd=0.5, col=\"#2F7DDE\", data.panel=2) # blue\n",
    "\n",
    "dev.off()"
   ]
  },
  {
   "cell_type": "markdown",
   "id": "reliable-regulation",
   "metadata": {},
   "source": [
    "## Liftover issues only"
   ]
  },
  {
   "cell_type": "code",
   "execution_count": 56,
   "id": "frequent-paraguay",
   "metadata": {},
   "outputs": [
    {
     "data": {
      "text/html": [
       "<strong>pdf:</strong> 2"
      ],
      "text/latex": [
       "\\textbf{pdf:} 2"
      ],
      "text/markdown": [
       "**pdf:** 2"
      ],
      "text/plain": [
       "pdf \n",
       "  2 "
      ]
     },
     "metadata": {},
     "output_type": "display_data"
    }
   ],
   "source": [
    "# GRCh38\n",
    "\n",
    "pdf(\"hg38_ideogram.liftover.pdf\", height = 10, width = 5)\n",
    "\n",
    "pp <- getDefaultPlotParams(plot.type=2)\n",
    "pp$ideogramheight=100\n",
    "\n",
    "kp <- plotKaryotype(genome = \"hg38\", plot.type=2,  cex=1, plot.params = pp, lwd=0.00001)\n",
    "kpAddCytobands(kp, lwd=0.3) # no border so they don't overwhelm small issue colors\n",
    "\n",
    "kpPlotRegions(kp, data=hg38_non_syn, r0=0, r1=1, lwd=0, col=\"#8C510ADD\", data.panel=\"ideogram\")\n",
    "\n",
    "kpPlotRegions(kp, data=hg38_issues_clinvar, r0=0, r1=0.25, lwd=0.5, col=\"#1c9099\") # cyan \n",
    "kpPlotRegions(kp, data=hg38_issues_gwas, r0=0.3, r1=0.55, lwd=0.5, col=\"#fec44f\") # orange\n",
    "\n",
    "dev.off()"
   ]
  }
 ],
 "metadata": {
  "kernel_info": {
   "name": "ir"
  },
  "kernelspec": {
   "display_name": "R",
   "language": "R",
   "name": "ir"
  },
  "language_info": {
   "codemirror_mode": "r",
   "file_extension": ".r",
   "mimetype": "text/x-r-source",
   "name": "R",
   "pygments_lexer": "r",
   "version": "4.0.2"
  },
  "nteract": {
   "version": "0.12.3"
  }
 },
 "nbformat": 4,
 "nbformat_minor": 5
}
